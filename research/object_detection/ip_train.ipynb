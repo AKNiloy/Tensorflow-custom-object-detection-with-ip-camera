{
  "nbformat": 4,
  "nbformat_minor": 0,
  "metadata": {
    "colab": {
      "name": "mobile_1.ipynb",
      "provenance": [],
      "collapsed_sections": []
    },
    "kernelspec": {
      "name": "python3",
      "display_name": "Python 3"
    },
    "accelerator": "GPU"
  },
  "cells": [
    {
      "cell_type": "code",
      "metadata": {
        "id": "ecvcee7Pj7h-",
        "colab_type": "code",
        "colab": {}
      },
      "source": [
        "import tensorflow as tf\n",
        "config = tf.ConfigProto()\n",
        "config.gpu_options.allow_growth = True\n",
        "\n",
        "with tf.device('/gpu:0'):\n",
        "  random_image_gpu = tf.random_normal((100, 100, 100, 3))\n",
        "  net_gpu = tf.layers.conv2d(random_image_gpu, 32, 7)\n",
        "  net_gpu = tf.reduce_sum(net_gpu)\n",
        "  \n",
        "sess = tf.Session(config=config)\n",
        "\n",
        "try:\n",
        "  sess.run(tf.global_variables_initializer())\n",
        "  print('ok')\n",
        "except tf.errors.InvalidArgumentError:\n",
        "  print(\n",
        "      '\\n\\nThis error most likely means that this notebook is not '\n",
        "      'configured to use a GPU.  Change this in Notebook Settings via the '\n",
        "      'command palette (cmd/ctrl-shift-P) or the Edit menu.\\n\\n')\n",
        "  raise"
      ],
      "execution_count": 0,
      "outputs": []
    },
    {
      "cell_type": "code",
      "metadata": {
        "id": "JR8rmlAcEPGm",
        "colab_type": "code",
        "colab": {}
      },
      "source": [
        "from os.path import join\n",
        "from google.colab import drive\n",
        "\n",
        "ROOT = \"/content/drive\"\n",
        "drive.mount(ROOT)\n",
        "\n",
        "PROJ = \"My Drive\" # This is a custom path.\n",
        "PROJECT_PATH = join(ROOT, PROJ)\n",
        "\n",
        "%cd ~/content\n",
        "%cd drive/My Drive"
      ],
      "execution_count": 0,
      "outputs": []
    },
    {
      "cell_type": "code",
      "metadata": {
        "id": "Xa_bhRDfEoN7",
        "colab_type": "code",
        "colab": {}
      },
      "source": [
        "%cd ~\n",
        "%cd /content\n",
        "%cd drive/My Drive/model/research\n",
        "!pwd\n",
        "!protoc object_detection/protos/*.proto --python_out=."
      ],
      "execution_count": 0,
      "outputs": []
    },
    {
      "cell_type": "code",
      "metadata": {
        "id": "x9V4cL-6FjfH",
        "colab_type": "code",
        "colab": {}
      },
      "source": [
        "%cd ~\n",
        "%cd /content\n",
        "%cd drive/My Drive/model/\n",
        "import os\n",
        "os.environ['PYTHONPATH'] += ':/content/drive/My Drive/model/research/:/content/drive/My Drive/model/research/slim/'\n",
        "os.environ['PYTHONPATH'] += ':/content/drive/My Drive/model/research/:/content/drive/My Drive/model/research/object_detection/'\n",
        "!python research/object_detection/builders/model_builder_test.py"
      ],
      "execution_count": 0,
      "outputs": []
    },
    {
      "cell_type": "code",
      "metadata": {
        "id": "9LX_DU24J7md",
        "colab_type": "code",
        "colab": {}
      },
      "source": [
        "%cd ~\n",
        "%cd /content\n",
        "%cd drive/My Drive/model/\n",
        "!python research/object_detection/model_main.py \\\n",
        "    --pipeline_config_path=\"/content/drive/My Drive/model/research/object_detection/training/ssd_mobilenet_v1_fpn.config\" \\\n",
        "    --model_dir=\"/content/drive/My Drive/model/research/object_detection/training\" \\\n",
        "    --alsologtostderr \\\n",
        "    --num_train_steps=10000"
      ],
      "execution_count": 0,
      "outputs": []
    },
    {
      "cell_type": "code",
      "metadata": {
        "id": "2H1jwCOVe_lM",
        "colab_type": "code",
        "colab": {}
      },
      "source": [
        ""
      ],
      "execution_count": 0,
      "outputs": []
    }
  ]
}